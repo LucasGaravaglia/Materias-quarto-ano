{
 "cells": [
  {
   "cell_type": "markdown",
   "metadata": {},
   "source": [
    "#### Primeira Prova de Introdução a Ciência de dados\n",
    "Aluno: Lucas Garavaglia\n",
    "#### Descrição da base de dados\n",
    "A Base de dados consiste em 14 features, a feature target consiste em um dado binarizado de um valor positivo ou negativo, e outras 9 features de pontos flutuantes que variam de até -10 a +10. O dataset não consta uma introdução com muitos detalhes, portanto nao consegui descrever bem o que esses dados significam.\n",
    "\n",
    "Dataset dísponivel em: https://www.openml.org/d/1016 <Acessado em 31/03/2022>"
   ]
  },
  {
   "cell_type": "markdown",
   "metadata": {},
   "source": [
    "Importação das libs"
   ]
  },
  {
   "cell_type": "code",
   "execution_count": 423,
   "metadata": {},
   "outputs": [],
   "source": [
    "from sklearn.model_selection import train_test_split, GridSearchCV\n",
    "from sklearn.metrics import accuracy_score, confusion_matrix,classification_report, f1_score\n",
    "from sklearn.neighbors import KNeighborsClassifier\n",
    "import numpy as np\n",
    "import pandas as pd\n",
    "import matplotlib.pyplot as plt\n",
    "from sklearn.preprocessing import MinMaxScaler\n",
    "import math"
   ]
  },
  {
   "cell_type": "markdown",
   "metadata": {},
   "source": [
    "Leitura do dataset"
   ]
  },
  {
   "cell_type": "code",
   "execution_count": 424,
   "metadata": {},
   "outputs": [
    {
     "data": {
      "text/html": [
       "<div>\n",
       "<style scoped>\n",
       "    .dataframe tbody tr th:only-of-type {\n",
       "        vertical-align: middle;\n",
       "    }\n",
       "\n",
       "    .dataframe tbody tr th {\n",
       "        vertical-align: top;\n",
       "    }\n",
       "\n",
       "    .dataframe thead th {\n",
       "        text-align: right;\n",
       "    }\n",
       "</style>\n",
       "<table border=\"1\" class=\"dataframe\">\n",
       "  <thead>\n",
       "    <tr style=\"text-align: right;\">\n",
       "      <th></th>\n",
       "      <th>Train or Test</th>\n",
       "      <th>Speaker Number</th>\n",
       "      <th>Sex</th>\n",
       "      <th>Feature 0</th>\n",
       "      <th>Feature 1</th>\n",
       "      <th>Feature 2</th>\n",
       "      <th>Feature 3</th>\n",
       "      <th>Feature 4</th>\n",
       "      <th>Feature 5</th>\n",
       "      <th>Feature 6</th>\n",
       "      <th>Feature 7</th>\n",
       "      <th>Feature 8</th>\n",
       "      <th>Feature 9</th>\n",
       "      <th>binaryClass</th>\n",
       "    </tr>\n",
       "  </thead>\n",
       "  <tbody>\n",
       "    <tr>\n",
       "      <th>0</th>\n",
       "      <td>Train</td>\n",
       "      <td>Andrew</td>\n",
       "      <td>Male</td>\n",
       "      <td>-3.639</td>\n",
       "      <td>0.418</td>\n",
       "      <td>-0.670</td>\n",
       "      <td>1.779</td>\n",
       "      <td>-0.168</td>\n",
       "      <td>1.627</td>\n",
       "      <td>-0.388</td>\n",
       "      <td>0.529</td>\n",
       "      <td>-0.874</td>\n",
       "      <td>-0.814</td>\n",
       "      <td>P</td>\n",
       "    </tr>\n",
       "    <tr>\n",
       "      <th>1</th>\n",
       "      <td>Train</td>\n",
       "      <td>Andrew</td>\n",
       "      <td>Male</td>\n",
       "      <td>-3.327</td>\n",
       "      <td>0.496</td>\n",
       "      <td>-0.694</td>\n",
       "      <td>1.365</td>\n",
       "      <td>-0.265</td>\n",
       "      <td>1.933</td>\n",
       "      <td>-0.363</td>\n",
       "      <td>0.510</td>\n",
       "      <td>-0.621</td>\n",
       "      <td>-0.488</td>\n",
       "      <td>N</td>\n",
       "    </tr>\n",
       "    <tr>\n",
       "      <th>2</th>\n",
       "      <td>Train</td>\n",
       "      <td>Andrew</td>\n",
       "      <td>Male</td>\n",
       "      <td>-2.120</td>\n",
       "      <td>0.894</td>\n",
       "      <td>-1.576</td>\n",
       "      <td>0.147</td>\n",
       "      <td>-0.707</td>\n",
       "      <td>1.559</td>\n",
       "      <td>-0.579</td>\n",
       "      <td>0.676</td>\n",
       "      <td>-0.809</td>\n",
       "      <td>-0.049</td>\n",
       "      <td>N</td>\n",
       "    </tr>\n",
       "    <tr>\n",
       "      <th>3</th>\n",
       "      <td>Train</td>\n",
       "      <td>Andrew</td>\n",
       "      <td>Male</td>\n",
       "      <td>-2.287</td>\n",
       "      <td>1.809</td>\n",
       "      <td>-1.498</td>\n",
       "      <td>1.012</td>\n",
       "      <td>-1.053</td>\n",
       "      <td>1.060</td>\n",
       "      <td>-0.567</td>\n",
       "      <td>0.235</td>\n",
       "      <td>-0.091</td>\n",
       "      <td>-0.795</td>\n",
       "      <td>N</td>\n",
       "    </tr>\n",
       "    <tr>\n",
       "      <th>4</th>\n",
       "      <td>Train</td>\n",
       "      <td>Andrew</td>\n",
       "      <td>Male</td>\n",
       "      <td>-2.598</td>\n",
       "      <td>1.938</td>\n",
       "      <td>-0.846</td>\n",
       "      <td>1.062</td>\n",
       "      <td>-1.633</td>\n",
       "      <td>0.764</td>\n",
       "      <td>0.394</td>\n",
       "      <td>-0.150</td>\n",
       "      <td>0.277</td>\n",
       "      <td>-0.396</td>\n",
       "      <td>N</td>\n",
       "    </tr>\n",
       "  </tbody>\n",
       "</table>\n",
       "</div>"
      ],
      "text/plain": [
       "  Train or Test Speaker Number   Sex  Feature 0  Feature 1  Feature 2  \\\n",
       "0         Train         Andrew  Male     -3.639      0.418     -0.670   \n",
       "1         Train         Andrew  Male     -3.327      0.496     -0.694   \n",
       "2         Train         Andrew  Male     -2.120      0.894     -1.576   \n",
       "3         Train         Andrew  Male     -2.287      1.809     -1.498   \n",
       "4         Train         Andrew  Male     -2.598      1.938     -0.846   \n",
       "\n",
       "   Feature 3  Feature 4  Feature 5  Feature 6  Feature 7  Feature 8  \\\n",
       "0      1.779     -0.168      1.627     -0.388      0.529     -0.874   \n",
       "1      1.365     -0.265      1.933     -0.363      0.510     -0.621   \n",
       "2      0.147     -0.707      1.559     -0.579      0.676     -0.809   \n",
       "3      1.012     -1.053      1.060     -0.567      0.235     -0.091   \n",
       "4      1.062     -1.633      0.764      0.394     -0.150      0.277   \n",
       "\n",
       "   Feature 9 binaryClass  \n",
       "0     -0.814           P  \n",
       "1     -0.488           N  \n",
       "2     -0.049           N  \n",
       "3     -0.795           N  \n",
       "4     -0.396           N  "
      ]
     },
     "execution_count": 424,
     "metadata": {},
     "output_type": "execute_result"
    }
   ],
   "source": [
    "df_train = pd.read_csv('https://www.openml.org/data/get_csv/53550/vowel.arff')\n",
    "df_train.head()"
   ]
  },
  {
   "cell_type": "markdown",
   "metadata": {},
   "source": [
    "Método que aplica o knn"
   ]
  },
  {
   "cell_type": "code",
   "execution_count": 425,
   "metadata": {},
   "outputs": [],
   "source": [
    "def Knn(dataset,targetAtribute,n_neighbors=3,metric='euclidean',weights=None):\n",
    "  X = dataset.drop([targetAtribute], axis=1)\n",
    "  y = dataset[targetAtribute]\n",
    "\n",
    "  X_train, X_test, y_train, y_test = train_test_split(X, y, test_size=0.3)\n",
    "\n",
    "  model = KNeighborsClassifier(n_neighbors=n_neighbors,metric=metric,weights=weights)\n",
    "  model.fit(X_train, y_train)\n",
    "  y_pred = model.predict(X_test)\n",
    "\n",
    "  print(accuracy_score(y_test, y_pred)*100)\n",
    "  return y_test,y_pred,model"
   ]
  },
  {
   "cell_type": "markdown",
   "metadata": {},
   "source": [
    "Normalizando os dados"
   ]
  },
  {
   "cell_type": "code",
   "execution_count": 426,
   "metadata": {},
   "outputs": [],
   "source": [
    "def normalize(df_train,columns):\n",
    "  scaler = MinMaxScaler()\n",
    "  return pd.DataFrame(scaler.fit_transform(df_train), columns=columns)"
   ]
  },
  {
   "cell_type": "markdown",
   "metadata": {},
   "source": [
    "Método que mostra a matriz de confusão do treino"
   ]
  },
  {
   "cell_type": "code",
   "execution_count": 427,
   "metadata": {},
   "outputs": [],
   "source": [
    "def ConfusionMatrix(y_t,y_p):\n",
    "  conf_mat = confusion_matrix(y_true=y_t, y_pred=y_p)\n",
    "  print('Confusion matrix:\\n', conf_mat)\n",
    "\n",
    "  labels = ['Class 0', 'Class 1']\n",
    "  fig = plt.figure()\n",
    "  ax = fig.add_subplot(111)\n",
    "  cax = ax.matshow(conf_mat, cmap=plt.cm.Blues)\n",
    "  fig.colorbar(cax)\n",
    "  plt.xlabel('Predicted')\n",
    "  plt.ylabel('Expected')\n",
    "  plt.show()"
   ]
  },
  {
   "cell_type": "markdown",
   "metadata": {},
   "source": [
    "Aplicando o knn com o dataset limpo inicialmente.\n",
    "\n",
    "Foi tentado rodar o knn sem fazer nenhum filtro nos dados, no entanto deu erros com os atributos nominais, com isso foi eliminado o atributo Train or test, que como o próprio nome indica, é um atributo para a separação do dataset, foi binarizado os dados \"binaryClass\" e \"Sex\"."
   ]
  },
  {
   "cell_type": "code",
   "execution_count": 428,
   "metadata": {},
   "outputs": [
    {
     "name": "stdout",
     "output_type": "stream",
     "text": [
      "100.0\n",
      "Confusion matrix:\n",
      " [[ 21   0]\n",
      " [  0 276]]\n"
     ]
    },
    {
     "data": {
      "image/png": "[encoded data removed]",
      "text/plain": [
       "<Figure size 432x288 with 2 Axes>"
      ]
     },
     "metadata": {
      "needs_background": "light"
     },
     "output_type": "display_data"
    }
   ],
   "source": [
    "to_drop = [\"Speaker Number\",\"binaryClass\",\"Train or Test\"]\n",
    "df_train['Target'] = [0 if x == 'P' else 1 for x in df_train['binaryClass']]\n",
    "df_train['Sex'] = [0 if x == 'Male' else 1 for x in df_train['Sex']]\n",
    "df_train.drop(to_drop, axis=1, inplace=True)\n",
    "# df_train\n",
    "X = df_train.drop([\"Target\"], axis=1)\n",
    "y = df_train[\"Target\"]\n",
    "\n",
    "X_train, X_test, y_train, y_test = train_test_split(X, y, test_size=0.3)\n",
    "\n",
    "model = KNeighborsClassifier(n_neighbors=3,metric='euclidean')\n",
    "model.fit(X_train, y_train)\n",
    "y_pred = model.predict(X_test)\n",
    "\n",
    "print(accuracy_score(y_test, y_pred)*100)\n",
    "ConfusionMatrix(y_test,y_pred)"
   ]
  },
  {
   "cell_type": "markdown",
   "metadata": {},
   "source": [
    "Foi aplicado o knn com os dados normalizados para ver a distribuição geral."
   ]
  },
  {
   "cell_type": "code",
   "execution_count": 429,
   "metadata": {},
   "outputs": [
    {
     "name": "stdout",
     "output_type": "stream",
     "text": [
      "99.66329966329967\n",
      "Confusion matrix:\n",
      " [[ 23   0]\n",
      " [  1 273]]\n"
     ]
    },
    {
     "data": {
      "image/png": "[encoded data removed]",
      "text/plain": [
       "<Figure size 432x288 with 2 Axes>"
      ]
     },
     "metadata": {
      "needs_background": "light"
     },
     "output_type": "display_data"
    }
   ],
   "source": [
    "x_dataset_base = df_train.copy()\n",
    "y_dataset_base = df_train.copy()\n",
    "x_dataset_base.drop([\"Sex\",\"Target\"],axis=1, inplace=True)\n",
    "y_dataset_base = y_dataset_base.Target\n",
    "\n",
    "columns = df_train.columns\n",
    "columns.drop([\"Sex\",\"Target\"])\n",
    "df_norm = normalize(df_train,columns)\n",
    "yt,yp,modeloInicialKnn = Knn(df_norm,\"Target\")\n",
    "ConfusionMatrix(yt,yp)"
   ]
  },
  {
   "cell_type": "markdown",
   "metadata": {},
   "source": [
    "Cross Validation"
   ]
  },
  {
   "cell_type": "code",
   "execution_count": 430,
   "metadata": {},
   "outputs": [
    {
     "name": "stdout",
     "output_type": "stream",
     "text": [
      "Acurácia com cross validation: 99.18979591836734\n"
     ]
    }
   ],
   "source": [
    "from sklearn.model_selection import cross_val_score\n",
    "\n",
    "cv_result_dataset = cross_val_score(modeloInicialKnn, x_dataset_base, y_dataset_base,cv=20, scoring=\"accuracy\")\n",
    "print(\"Acurácia com cross validation:\", cv_result_dataset.mean()*100)"
   ]
  },
  {
   "cell_type": "markdown",
   "metadata": {},
   "source": [
    "Foi observado que os dados estão extremamente desbalanceados, causando uma acurácia de 99% a 100% dependendo da forma em que foi dividido os conjuntos dee teste e treino, portanto farei alguns testes com undersampling e oversampling para tentar balanceá-los."
   ]
  },
  {
   "cell_type": "code",
   "execution_count": 431,
   "metadata": {},
   "outputs": [
    {
     "name": "stdout",
     "output_type": "stream",
     "text": [
      "Class 0: 90\n",
      "Class 1: 900\n",
      "Proporção: 10.0 : 1\n"
     ]
    },
    {
     "data": {
      "image/png": "[encoded data removed]",
      "text/plain": [
       "<Figure size 432x288 with 1 Axes>"
      ]
     },
     "metadata": {
      "needs_background": "light"
     },
     "output_type": "display_data"
    }
   ],
   "source": [
    "target_count = df_train.Target.value_counts()\n",
    "print('Class 0:', target_count[0])\n",
    "print('Class 1:', target_count[1])\n",
    "print('Proporção:', round(target_count[1] / target_count[0], 2), ': 1')\n",
    "target_count.plot(kind='bar', title='Count (target)',color = ['#1F77B4', '#FF7F0E']);"
   ]
  },
  {
   "cell_type": "markdown",
   "metadata": {},
   "source": [
    "Foi feito um calculo de proporção para saber o tamanho da mesma, e é observado que existe uma desproporção de dados de 10 para 1 entre as duas classes.\n",
    "\n",
    "Portanto farei alguns testes de oversampling e undersampling para tentar melhorar o conjunto de teste, prezando manter a acurácia de no mínimo 95% e como ela já está em 100%, no maximo 100, será definido um limite também tanto para o oversampling, quanto para o undersampling, sendo eles, over de no máximo 30% e under de no máximo 70%\n",
    "\n",
    "#### Aplicando UnderSampling"
   ]
  },
  {
   "cell_type": "code",
   "execution_count": 432,
   "metadata": {},
   "outputs": [
    {
     "name": "stdout",
     "output_type": "stream",
     "text": [
      "Random under-sampling:\n",
      "1    720\n",
      "0     90\n",
      "Name: Target, dtype: int64\n"
     ]
    },
    {
     "data": {
      "image/png": "[encoded data removed]",
      "text/plain": [
       "<Figure size 432x288 with 1 Axes>"
      ]
     },
     "metadata": {
      "needs_background": "light"
     },
     "output_type": "display_data"
    }
   ],
   "source": [
    "# CONTAR CLASSES\n",
    "count_class_1, count_class_0 = df_train.Target.value_counts()\n",
    "# # Divide by class\n",
    "df_class_0 = df_train[df_train['Target'] == 0]\n",
    "df_class_1 = df_train[df_train['Target'] == 1]\n",
    "df_class_1_under = df_class_1.sample(int(count_class_1*0.8))\n",
    "df_test_under = pd.concat([df_class_1_under, df_class_0], axis=0)\n",
    "print('Random under-sampling:')\n",
    "print(df_test_under.Target.value_counts())\n",
    "df_test_under.Target.value_counts().plot(kind='bar', title='Count (target)',color = ['#1F77B4', '#FF7F0E']);"
   ]
  },
  {
   "cell_type": "markdown",
   "metadata": {},
   "source": [
    "Após fazer o undersampling aplicarei o knn novamente com os mesmo parâmetros de antes(k=3 e distância: Euclidiana)."
   ]
  },
  {
   "cell_type": "code",
   "execution_count": 433,
   "metadata": {},
   "outputs": [],
   "source": [
    "columns = df_test_under.columns\n",
    "columns.drop([\"Sex\",\"Target\"])\n",
    "df_norm = normalize(df_test_under,columns)\n",
    "\n",
    "X = df_norm.drop([\"Target\"], axis=1)\n",
    "y = df_norm[\"Target\"]\n",
    "X_train, X_test, y_train, y_test = train_test_split(X, y, test_size=0.3)"
   ]
  },
  {
   "cell_type": "code",
   "execution_count": 434,
   "metadata": {},
   "outputs": [
    {
     "name": "stdout",
     "output_type": "stream",
     "text": [
      "Confusion matrix:\n",
      " [[ 23   1]\n",
      " [  2 217]]\n"
     ]
    },
    {
     "data": {
      "image/png": "[encoded data removed]",
      "text/plain": [
       "<Figure size 432x288 with 2 Axes>"
      ]
     },
     "metadata": {
      "needs_background": "light"
     },
     "output_type": "display_data"
    }
   ],
   "source": [
    "model = KNeighborsClassifier(n_neighbors=3,metric='euclidean')\n",
    "model.fit(X_train, y_train)\n",
    "y_pred = model.predict(X_test)\n",
    "ConfusionMatrix(y_test,y_pred)"
   ]
  },
  {
   "cell_type": "markdown",
   "metadata": {},
   "source": [
    "Observa-se que a acurácia continua alta\n",
    "### Oversampling"
   ]
  },
  {
   "cell_type": "code",
   "execution_count": 435,
   "metadata": {},
   "outputs": [
    {
     "name": "stdout",
     "output_type": "stream",
     "text": [
      "900 90\n",
      "Random over-sampling:\n",
      "1    900\n",
      "0    105\n",
      "Name: Target, dtype: int64\n"
     ]
    },
    {
     "data": {
      "image/png": "[encoded data removed]",
      "text/plain": [
       "<Figure size 432x288 with 1 Axes>"
      ]
     },
     "metadata": {
      "needs_background": "light"
     },
     "output_type": "display_data"
    }
   ],
   "source": [
    "# CONTAR CLASSES\n",
    "count_class_1, count_class_0 = df_train.Target.value_counts()\n",
    "print(count_class_1, count_class_0)\n",
    "# # Divide by class\n",
    "df_class_0 = df_train[df_train['Target'] == 0]\n",
    "df_class_1 = df_train[df_train['Target'] == 1]\n",
    "df_class_0_over = df_class_0.sample(int(count_class_0/0.85),replace=True)\n",
    "df_test_over = pd.concat([df_class_0_over, df_class_1], axis=0)\n",
    "\n",
    "print('Random over-sampling:')\n",
    "print(df_test_over.Target.value_counts())\n",
    "df_test_over.Target.value_counts().plot(kind='bar', title='Count (target)',color = ['#1F77B4', '#FF7F0E']);"
   ]
  },
  {
   "cell_type": "code",
   "execution_count": 436,
   "metadata": {},
   "outputs": [],
   "source": [
    "columns = df_test_over.columns\n",
    "columns.drop([\"Sex\",\"Target\"])\n",
    "df_norm = normalize(df_test_over,columns)\n",
    "X = df_norm.drop([\"Target\"], axis=1)\n",
    "y = df_norm[\"Target\"]\n",
    "\n",
    "X_train, X_test, y_train, y_test = train_test_split(X, y, test_size=0.3)"
   ]
  },
  {
   "cell_type": "code",
   "execution_count": 437,
   "metadata": {},
   "outputs": [
    {
     "name": "stdout",
     "output_type": "stream",
     "text": [
      "99.00662251655629\n",
      "Confusion matrix:\n",
      " [[ 35   3]\n",
      " [  0 264]]\n"
     ]
    },
    {
     "data": {
      "image/png": "[encoded data removed]",
      "text/plain": [
       "<Figure size 432x288 with 2 Axes>"
      ]
     },
     "metadata": {
      "needs_background": "light"
     },
     "output_type": "display_data"
    }
   ],
   "source": [
    "model = KNeighborsClassifier(n_neighbors=3,metric='euclidean')\n",
    "model.fit(X_train, y_train)\n",
    "y_pred = model.predict(X_test)\n",
    "print(accuracy_score(y_test, y_pred)*100)\n",
    "ConfusionMatrix(y_test,y_pred)"
   ]
  },
  {
   "cell_type": "markdown",
   "metadata": {},
   "source": [
    "Com oversampling a acurácia bateu 100%.\n",
    "Tentativa de aplicar tanto o over quanto o under simultaneamente para ver o resultado,"
   ]
  },
  {
   "cell_type": "code",
   "execution_count": 438,
   "metadata": {},
   "outputs": [
    {
     "name": "stdout",
     "output_type": "stream",
     "text": [
      "0    630\n",
      "1    105\n",
      "Name: Target, dtype: int64\n"
     ]
    },
    {
     "data": {
      "image/png": "[encoded data removed]",
      "text/plain": [
       "<Figure size 432x288 with 1 Axes>"
      ]
     },
     "metadata": {
      "needs_background": "light"
     },
     "output_type": "display_data"
    }
   ],
   "source": [
    "# Contagem das classes\n",
    "count_class_1, count_class_0 = df_train.Target.value_counts()\n",
    "# Divisão das classes\n",
    "df_class_0 = df_train[df_train['Target'] == 0]\n",
    "df_class_1 = df_train[df_train['Target'] == 1]\n",
    "df_class_0_over = df_class_0.sample(int(count_class_1*0.7),replace=True)\n",
    "df_class_1_under = df_class_1.sample(int(count_class_0/0.85))\n",
    "df_balanced = pd.concat([df_class_0_over, df_class_1_under], axis=0)\n",
    "\n",
    "print(df_balanced.Target.value_counts())\n",
    "df_balanced.Target.value_counts().plot(kind='bar', title='Count (target)',color = ['#1F77B4', '#FF7F0E']);"
   ]
  },
  {
   "cell_type": "code",
   "execution_count": 465,
   "metadata": {},
   "outputs": [],
   "source": [
    "columns = df_balanced.columns\n",
    "columns.drop([\"Sex\",\"Target\"])\n",
    "df_norm = normalize(df_balanced,columns)\n",
    "X = df_norm.drop([\"Target\"], axis=1)\n",
    "y = df_norm[\"Target\"]\n",
    "\n",
    "X_train, X_test, y_train, y_test = train_test_split(X, y, test_size=0.3)\n"
   ]
  },
  {
   "cell_type": "code",
   "execution_count": 466,
   "metadata": {},
   "outputs": [
    {
     "name": "stdout",
     "output_type": "stream",
     "text": [
      "99.09502262443439\n",
      "Confusion matrix:\n",
      " [[186   0]\n",
      " [  2  33]]\n"
     ]
    },
    {
     "data": {
      "image/png": "[encoded data removed]",
      "text/plain": [
       "<Figure size 432x288 with 2 Axes>"
      ]
     },
     "metadata": {
      "needs_background": "light"
     },
     "output_type": "display_data"
    }
   ],
   "source": [
    "model = KNeighborsClassifier(n_neighbors=3,metric='euclidean')\n",
    "model.fit(X_train, y_train)\n",
    "y_pred = model.predict(X_test)\n",
    "print(accuracy_score(y_test, y_pred)*100)\n",
    "ConfusionMatrix(y_test,y_pred)"
   ]
  },
  {
   "cell_type": "markdown",
   "metadata": {},
   "source": [
    "Cheguei nos valores de over = 15% e de under = 70%, onde a acurácia continua alta e os dados estão menos desbalanceados, no entanto o desbalanceamento ainda é alto, o ideal seria ter mais dados para ter um modelo confiável.\n",
    "\n",
    "Vou gerar vários valores para procurar o melhor k\n"
   ]
  },
  {
   "cell_type": "code",
   "execution_count": 448,
   "metadata": {},
   "outputs": [],
   "source": [
    "x = df_balanced.drop('Target', axis = 1)\n",
    "y = df_balanced['Target']\n",
    "X_train, X_test, y_train, y_test = train_test_split(x, y, test_size=0.3)"
   ]
  },
  {
   "cell_type": "code",
   "execution_count": 450,
   "metadata": {},
   "outputs": [
    {
     "data": {
      "text/plain": [
       "Text(0, 0.5, 'Mean Error')"
      ]
     },
     "execution_count": 450,
     "metadata": {},
     "output_type": "execute_result"
    },
    {
     "data": {
      "image/png": "[encoded data removed]",
      "text/plain": [
       "<Figure size 864x432 with 1 Axes>"
      ]
     },
     "metadata": {
      "needs_background": "light"
     },
     "output_type": "display_data"
    }
   ],
   "source": [
    "error = []\n",
    "\n",
    "# Calculating error for K values between 1 and 500\n",
    "for i in range(1, 50):  \n",
    "    knn = KNeighborsClassifier(n_neighbors=i)\n",
    "    knn.fit(X_train, y_train)\n",
    "    pred_i = knn.predict(X_test)\n",
    "    error.append(np.mean(pred_i != y_test))\n",
    "\n",
    "plt.figure(figsize=(12, 6))  \n",
    "plt.plot(range(1, 50), error, color='red', linestyle='dashed', marker='o',  \n",
    "         markerfacecolor='blue', markersize=10)\n",
    "plt.title('Error Rate K Value')  \n",
    "plt.xlabel('K Value')  \n",
    "plt.ylabel('Mean Error')  "
   ]
  },
  {
   "cell_type": "markdown",
   "metadata": {},
   "source": [
    "Com o gráfico consegue-se observar que todos tem um erro minusculo, portanto vou usar k = 5 que não se tem um erro tão grande e tem uma quantidade razoável de vizinhos para comparar."
   ]
  },
  {
   "cell_type": "markdown",
   "metadata": {},
   "source": [
    "Aplicando cross validation com o k melhorado para o knn com o dataset balanceado"
   ]
  },
  {
   "cell_type": "code",
   "execution_count": 451,
   "metadata": {},
   "outputs": [
    {
     "name": "stdout",
     "output_type": "stream",
     "text": [
      "Acurácia com cross validation: 99.1891891891892\n"
     ]
    }
   ],
   "source": [
    "from sklearn.model_selection import cross_val_score\n",
    "\n",
    "y = df_balanced['Target']\n",
    "x = df_balanced.drop(['Target'],axis=1)\n",
    "classificador = KNeighborsClassifier(n_neighbors=5,metric='euclidean')\n",
    "cv_result_enhanced = cross_val_score(classificador, x, y, cv=20, scoring=\"accuracy\")\n",
    "print(\"Acurácia com cross validation:\", cv_result_enhanced.mean()*100)"
   ]
  },
  {
   "cell_type": "code",
   "execution_count": 452,
   "metadata": {},
   "outputs": [],
   "source": [
    "columns = df_balanced.columns\n",
    "columns.drop([\"Sex\",\"Target\"])\n",
    "df_norm = normalize(df_balanced,columns)\n",
    "\n",
    "X_train, X_test, y_train, y_test = train_test_split(x, y, test_size=0.3)"
   ]
  },
  {
   "cell_type": "code",
   "execution_count": 453,
   "metadata": {},
   "outputs": [
    {
     "name": "stdout",
     "output_type": "stream",
     "text": [
      "99.5475113122172\n",
      "Confusion matrix:\n",
      " [[193   0]\n",
      " [  1  27]]\n"
     ]
    },
    {
     "data": {
      "image/png": "[encoded data removed]",
      "text/plain": [
       "<Figure size 432x288 with 2 Axes>"
      ]
     },
     "metadata": {
      "needs_background": "light"
     },
     "output_type": "display_data"
    }
   ],
   "source": [
    "classificador.fit(X_train, y_train)\n",
    "y_pred = classificador.predict(X_test)\n",
    "print(accuracy_score(y_test, y_pred)*100)\n",
    "ConfusionMatrix(y_test,y_pred)"
   ]
  },
  {
   "cell_type": "markdown",
   "metadata": {},
   "source": [
    "Curva Roc"
   ]
  },
  {
   "cell_type": "code",
   "execution_count": 457,
   "metadata": {},
   "outputs": [],
   "source": [
    "from sklearn.model_selection import train_test_split\n",
    "import sklearn.metrics as metrics"
   ]
  },
  {
   "cell_type": "code",
   "execution_count": 473,
   "metadata": {},
   "outputs": [],
   "source": [
    "y = df_train['Target']\n",
    "x = df_train.drop(['Target'],axis=1)\n",
    "\n",
    "X_train, X_test, y_train, y_test = train_test_split(x, y, test_size=0.3, random_state=0)\n",
    "\n",
    "model = KNeighborsClassifier(n_neighbors=11)\n",
    "model.fit(X_train, y_train)\n",
    "\n",
    "pred = model.predict(X_test)\n",
    "probs = model.predict_proba(X_test)\n",
    "\n",
    "fprOld, tprOld, threshold = metrics.roc_curve(y_test, probs[:,1])\n",
    "roc_auc_old = metrics.auc(fprOld, tprOld)"
   ]
  },
  {
   "cell_type": "code",
   "execution_count": 474,
   "metadata": {},
   "outputs": [],
   "source": [
    "y = df_balanced['Target']\n",
    "x = df_balanced.drop(['Target'],axis=1)\n",
    "\n",
    "X_train, X_test, y_train, y_test = train_test_split(x, y, test_size=0.3, random_state=0)\n",
    "\n",
    "model = KNeighborsClassifier(n_neighbors=11)\n",
    "model.fit(X_train, y_train)\n",
    "\n",
    "pred = model.predict(X_test)\n",
    "probs = model.predict_proba(X_test)\n",
    "\n",
    "fprNew, tprNew, threshold = metrics.roc_curve(y_test, probs[:,1])\n",
    "roc_auc = metrics.auc(fprNew, tprNew)"
   ]
  },
  {
   "cell_type": "code",
   "execution_count": 475,
   "metadata": {},
   "outputs": [
    {
     "data": {
      "image/png": "[encoded data removed]",
      "text/plain": [
       "<Figure size 432x288 with 1 Axes>"
      ]
     },
     "metadata": {
      "needs_background": "light"
     },
     "output_type": "display_data"
    }
   ],
   "source": [
    "import matplotlib.pyplot as plt\n",
    "\n",
    "plt.plot(fprNew, tprNew, 'green')\n",
    "plt.plot(fprOld, tprOld, 'red')\n",
    "plt.plot([0,1], [0,1], '--')\n",
    "plt.show()"
   ]
  },
  {
   "cell_type": "markdown",
   "metadata": {},
   "source": [
    "Como se pode observar houve uma \"melhora\" na curva hoc."
   ]
  },
  {
   "cell_type": "markdown",
   "metadata": {},
   "source": [
    "# Teste de Wilcoxon "
   ]
  },
  {
   "cell_type": "code",
   "execution_count": 454,
   "metadata": {},
   "outputs": [],
   "source": [
    "from scipy.stats import wilcoxon"
   ]
  },
  {
   "cell_type": "markdown",
   "metadata": {},
   "source": [
    "Hipótese H0\n",
    "\n",
    "\n",
    "H0 = H1\n",
    "\n",
    "H0 = cv_result_dataset\n",
    "\n",
    "H1 = cv_result_enhanced\n",
    "\n",
    "\n",
    "\n",
    "Hipótese H1\n",
    "\n",
    "H0 != H1\n"
   ]
  },
  {
   "cell_type": "code",
   "execution_count": 456,
   "metadata": {},
   "outputs": [
    {
     "name": "stdout",
     "output_type": "stream",
     "text": [
      "Hipotese H0 aceita\n"
     ]
    }
   ],
   "source": [
    "alpha = 0.05\n",
    "stat, p = wilcoxon( cv_result_enhanced,cv_result_dataset)\n",
    "\n",
    "\n",
    "if p > alpha:\n",
    "  print('Hipotese H0 aceita')\n",
    "else:\n",
    "  print('Hipotese H0 rejeitada')"
   ]
  },
  {
   "cell_type": "markdown",
   "metadata": {},
   "source": [
    "Conclusão, mesmo com a tentativa de balancear os dados e melhorar o k no knn o dataset ficou extremamente desbalanceado, mesmo com a acurácia alta, não é possível sem maior quantidade de dados garantir que o algoritmo realmente está funcionando, tendo a hipótese H0 aceita."
   ]
  }
 ],
 "metadata": {
  "interpreter": {
   "hash": "e7370f93d1d0cde622a1f8e1c04877d8463912d04d973331ad4851f04de6915a"
  },
  "kernelspec": {
   "display_name": "Python 3.10.2 64-bit",
   "language": "python",
   "name": "python3"
  },
  "language_info": {
   "codemirror_mode": {
    "name": "ipython",
    "version": 3
   },
   "file_extension": ".py",
   "mimetype": "text/x-python",
   "name": "python",
   "nbconvert_exporter": "python",
   "pygments_lexer": "ipython3",
   "version": "3.10.2"
  },
  "orig_nbformat": 4
 },
 "nbformat": 4,
 "nbformat_minor": 2
}
